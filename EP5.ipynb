{
 "cells": [
  {
   "cell_type": "markdown",
   "source": [
    "# Exercício de Programação 5: 4 formas de resolver mínimos quadrados\n",
    "\n",
    "<font color=\"red\">**Prazo de submissão: 23:55 do dia 14/02/2022** </font>\n",
    "\n",
    "2021.2 Álgebra Linear Computacional - DCC - UFMG\n",
    "\n",
    "Erickson - Fabricio\n",
    "\n",
    "Instruções:\n",
    "* Antes de submeter suas soluções, certifique-se de que tudo roda como esperado. Primeiro, **reinicie o kernel** no menu, selecione Kernel $\\rightarrow$ Restart e então execute **todas as células** (no menu, Cell $\\rightarrow$ Run All)\n",
    "* **Transfira suas respostas para o arquivo .py com atenção.**\n",
    "* **Confira se a indentação está correta antes de submeter.**\n",
    "* Apenas o arquivo .py deve ser submetido. Ele não deve ser compactado."
   ],
   "metadata": {}
  },
  {
   "cell_type": "markdown",
   "source": [
    "## Carregando os dados\n",
    "\n",
    "Iremos carregar os dados usando a biblioteca ```pandas```. Não se preocupe se você não conhece a biblioteca, pois o nosso objetivo é apenas extrair a matriz de dados $X$. Segue uma descrição do dataset, retirada [daqui](http://statweb.stanford.edu/~owen/courses/202/Cereals.txt).\n",
    "\n",
    "* Datafile Name: Cereals\n",
    "* Datafile Subjects: Food , Health\n",
    "* Story Names: Healthy Breakfast\n",
    "* Reference: Data available at many grocery stores\n",
    "* Authorization: free use\n",
    "* Description: Data on several variable of different brands of cereal.\n",
    "\n",
    "A value of -1 for nutrients indicates a missing observation.\n",
    "Number of cases: 77\n",
    "Variable Names:\n",
    "\n",
    "  1. Name: Name of cereal\n",
    "  2. mfr: Manufacturer of cereal where A = American Home Food Products; G =\n",
    "     General Mills; K = Kelloggs; N = Nabisco; P = Post; Q = Quaker Oats; R\n",
    "     = Ralston Purina\n",
    "  3. type: cold or hot\n",
    "  4. calories: calories per serving\n",
    "  5. protein: grams of protein\n",
    "  6. fat: grams of fat\n",
    "  7. sodium: milligrams of sodium\n",
    "  8. fiber: grams of dietary fiber\n",
    "  9. carbo: grams of complex carbohydrates\n",
    "  10. sugars: grams of sugars\n",
    "  11. potass: milligrams of potassium\n",
    "  12. vitamins: vitamins and minerals - 0, 25, or 100, indicating the typical percentage of FDA recommended\n",
    "  13. shelf: display shelf (1, 2, or 3, counting from the floor)\n",
    "  14. weight: weight in ounces of one serving\n",
    "  15. cups: number of cups in one serving\n",
    "  16. rating: a rating of the cereals"
   ],
   "metadata": {}
  },
  {
   "cell_type": "code",
   "execution_count": 26,
   "source": [
    "#Execute esta célula para instalar o pandas caso já não tenha instalado\n",
    "# import sys\n",
    "# !{sys.executable} -m pip install --user pandas"
   ],
   "outputs": [],
   "metadata": {}
  },
  {
   "cell_type": "code",
   "execution_count": null,
   "source": [
    "import pandas as pd\n",
    "df = pd.read_table('cereal.txt',sep='\\s+',index_col='name')\n",
    "df"
   ],
   "outputs": [],
   "metadata": {}
  },
  {
   "cell_type": "markdown",
   "source": [
    "A seguir iremos remover as linhas correspondentes aos cereais que possuem dados faltantes, representados pelo valor -1.\n",
    "Também iremos remover as colunas com dados categóricos 'mfr' e 'type', e os dados numéricos, 'shelf', 'weight' e 'cups'."
   ],
   "metadata": {}
  },
  {
   "cell_type": "code",
   "execution_count": null,
   "source": [
    "import numpy as np\n",
    "new_df = df.replace(-1,np.nan)\n",
    "new_df = new_df.dropna()\n",
    "new_df = new_df.drop(['mfr','type','shelf','weight','cups'],axis=1)\n",
    "new_df"
   ],
   "outputs": [],
   "metadata": {}
  },
  {
   "cell_type": "markdown",
   "source": [
    "Finalmente, iremos converter os dados nutricionais numéricos de ```new_df``` para uma matriz X ('calories', 'protein', 'fat', 'sugars' e 'vitamins') e as avaliações (ratings) para um vetor $y$. Os nomes dos cereais serão salvos em uma lista ```cereral_names``` e os nomes das colunas em uma lista ```col_names```."
   ],
   "metadata": {}
  },
  {
   "cell_type": "code",
   "execution_count": null,
   "source": [
    "cereral_names = list(new_df.index)\n",
    "print('Cereais:',cereral_names)\n",
    "col_names = list(new_df.columns)\n",
    "print('Colunas:',col_names)\n",
    "\n",
    "X = new_df.loc[:,['calories', 'protein', 'fat', 'sugars', 'vitamins']].values\n",
    "print('As dimensões de dados são:',X.shape)\n",
    "y = new_df['rating'].values\n",
    "print('As dimensões de y são:',y.shape)\n"
   ],
   "outputs": [],
   "metadata": {}
  },
  {
   "cell_type": "markdown",
   "source": [
    "## Sistemas Lineares e Mínimos Quadrados\n",
    "\n",
    "Esse Exercício de Programação irá tratar das 4 formas de resolver a otimização de mínimos quadrados a partir da equação normal, iremos estimar os parâmetros de um regressor linear para o nosso dataset de cereais.\n",
    "\n",
    "Dado o sistema linear $X\\beta = b$, procuramos encontrar o valor de de $\\hat{\\beta}$ que minimiza o erro quadrático $||X\\hat{\\beta}-b||^{2}$.\n",
    "\n",
    "Esse valor é definido pela **Equação Normal**:\n",
    "\n",
    "$X^{T}X\\hat{\\beta} = X^{T}b$.\n",
    "\n",
    "Foram apresentados em aula quatro métodos para resolver a Equação Normal:\n",
    "- Inversa da matriz $X^{T}X$\n",
    "- Pseudo-Inversa\n",
    "- Decomposição QR\n",
    "- Decomposição de Cholesky\n",
    "\n",
    "Para relembrar os conceitos, revise as aulas [19](https://www.youtube.com/watch?v=SBsdyq2ha5k) e [20](https://www.youtube.com/watch?v=wuTbS0FOkLY).\n",
    "\n",
    "**ATENÇÃO:**\n",
    "- Programe as questões abaixo com atenção para as funções da biblioteca numpy que são permitidas. \n",
    "- Não serão aceitos trabalhos em que a questão foi resolvida utilizando funções não permitidas. \n",
    "- Para todas as questões, as operações básicas de multiplicação de matrizes serão permitidas."
   ],
   "metadata": {}
  },
  {
   "cell_type": "code",
   "execution_count": 30,
   "source": [
    "## Não altere essa célula\n",
    "import numpy as np"
   ],
   "outputs": [],
   "metadata": {}
  },
  {
   "cell_type": "markdown",
   "source": [
    "**1.1** Inversa da matriz $X^{T}X$\n",
    "\n",
    "Defina a função **inversa(X, y)** (*1.1.1*) para calcular os parâmetros $\\hat{\\beta}$ a partir do método de **inversão da matriz $X^{T}X$**.\n",
    "\n",
    "**Funções permitidas:**\n",
    "\n",
    "[np.linalg.inv](https://numpy.org/doc/stable/reference/generated/numpy.linalg.inv.html)"
   ],
   "metadata": {}
  },
  {
   "cell_type": "code",
   "execution_count": 31,
   "source": [
    "## Insira seu código aqui"
   ],
   "outputs": [],
   "metadata": {}
  },
  {
   "cell_type": "markdown",
   "source": [
    "**1.2** Pseudo-inversa\n",
    "\n",
    "Defina a função **pseudo_inversa(X, y)** (*1.2.1*) para calcular os parâmetros $\\hat{\\beta}$ a partir do método da **pseudo-inversa**.\n",
    "\n",
    "**Funções permitidas:**\n",
    "\n",
    "[np.linalg.svd](https://numpy.org/doc/stable/reference/generated/numpy.linalg.svd.html)"
   ],
   "metadata": {}
  },
  {
   "cell_type": "code",
   "execution_count": 32,
   "source": [
    "## Insira seu código aqui"
   ],
   "outputs": [],
   "metadata": {}
  },
  {
   "cell_type": "markdown",
   "source": [
    "**1.3** Decomposição QR\n",
    "\n",
    "Defina a função **QR(X, y)** (*1.3.1*) para calcular os parâmetros $\\hat{\\beta}$ a partir do método de **Decomposição QR**.\n",
    "\n",
    "**Funções permitidas:**\n",
    "\n",
    "[np.linalg.inv](https://numpy.org/doc/stable/reference/generated/numpy.linalg.inv.html)\n",
    "\n",
    "[np.linalg.qr](https://numpy.org/doc/stable/reference/generated/numpy.linalg.qr.html)"
   ],
   "metadata": {}
  },
  {
   "cell_type": "code",
   "execution_count": 33,
   "source": [
    "## Insira seu código aqui"
   ],
   "outputs": [],
   "metadata": {}
  },
  {
   "cell_type": "markdown",
   "source": [
    "**1.4** Decomposição de Cholesky\n",
    "\n",
    "Defina as funções **substituicao(L, b)** (*1.4.1*) e **retrosubstituicao(Lt, C)** (*1.4.2*) como funções auxiliares para efetuar as substituições do método pela **Decomposição de Cholesky**. Crie também as funções **positiva_definida(X)** (*1.4.3*) e **simetrica(X)** (*1.4.4*) que retornam um *booleano* indicando se a matriz de entrada é positiva definida e simétrica, respectivamente.\n",
    "\n",
    "A partir das funções definidas anteriormente, crie uma função chamada **cholesky(X, y)** (*1.4.5*) para calcular os parâmetros $\\hat{\\beta}$ a partir do método de **Decomposição de Cholesky**, utilize a função **assert** do python e as funções **positiva_definida(X)** e **simetrica(X)** para garantir que a matriz decomposta é simétrica definida positiva.\n",
    "\n",
    "**Funções permitidas:**\n",
    "\n",
    "[np.linalg.cholesky](https://numpy.org/doc/stable/reference/generated/numpy.linalg.cholesky.html)\n",
    "\n",
    "[np.linalg.eigvals](https://numpy.org/doc/stable/reference/generated/numpy.linalg.eigvals.html)\n",
    "\n",
    "[np.allclose](https://numpy.org/doc/stable/reference/generated/numpy.allclose.html)\n",
    "\n",
    "[np.all](https://numpy.org/doc/stable/reference/generated/numpy.all.html)\n"
   ],
   "metadata": {}
  },
  {
   "cell_type": "code",
   "execution_count": 34,
   "source": [
    "## Insira seu código aqui"
   ],
   "outputs": [],
   "metadata": {}
  },
  {
   "cell_type": "markdown",
   "source": [
    "Vamos visualizar os parâmetros estimados utilizando cada método:"
   ],
   "metadata": {}
  },
  {
   "cell_type": "code",
   "execution_count": null,
   "source": [
    "## Insira seu código aqui e descomente o código para imprimir os resultados\n",
    "\n",
    "#betas_pseudo_inversa = \n",
    "#betas_inversa = \n",
    "#betas_qr = \n",
    "#betas_cholesky = \n",
    "\n",
    "#print(betas_pseudo_inversa)\n",
    "#print(betas_inversa)\n",
    "#print(betas_qr)\n",
    "#print(betas_cholesky)"
   ],
   "outputs": [],
   "metadata": {}
  }
 ],
 "metadata": {
  "kernelspec": {
   "name": "python3",
   "display_name": "Python 3.7.4 64-bit ('base': conda)"
  },
  "language_info": {
   "codemirror_mode": {
    "name": "ipython",
    "version": 3
   },
   "file_extension": ".py",
   "mimetype": "text/x-python",
   "name": "python",
   "nbconvert_exporter": "python",
   "pygments_lexer": "ipython3",
   "version": "3.7.4"
  },
  "interpreter": {
   "hash": "578ef2ec7b2332a8a72c808a4c29b860adbe7e10281e8daf5827a81195d81577"
  }
 },
 "nbformat": 4,
 "nbformat_minor": 2
}